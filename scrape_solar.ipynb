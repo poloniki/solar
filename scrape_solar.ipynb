{
 "cells": [
  {
   "cell_type": "code",
   "execution_count": null,
   "metadata": {},
   "outputs": [],
   "source": [
    "import requests\n",
    "import pandas as pd\n",
    "import numpy as np\n",
    "import csv\n",
    "from termcolor import colored"
   ]
  },
  {
   "cell_type": "code",
   "execution_count": null,
   "metadata": {},
   "outputs": [],
   "source": [
    "##make all pairs of (x,y)\n",
    "\n",
    "## increase the points = 10 if u want more information\n",
    "x = np.linspace(35.544239, 43.87686, 20)\n",
    "y = np.linspace(-10.0494, 3.969154, 20)\n",
    "\n",
    "all_pairs = []\n",
    "for i in x:\n",
    "    for j in y:\n",
    "        all_pairs.append((i,j))\n",
    "df = pd.DataFrame(all_pairs , columns = [\"lat\",\"lon\"])\n",
    "df.head()"
   ]
  },
  {
   "cell_type": "code",
   "execution_count": null,
   "metadata": {},
   "outputs": [],
   "source": [
    "##http request to api \n",
    "##change timeout if u do not want to wait for the proxy a lot\n",
    "\n",
    "def get_data(lat, lon, proxy , timeout = 5):\n",
    "    url = f\"https://apps.solargis.com/api/data/lta?loc={lat},{lon}\"\n",
    "\n",
    "    requests.request.headers = {\n",
    "        \"User-Agent\":\"Mozilla/5.0 (X11; Linux x86_64) AppleWebKit/537.36 (KHTML, like Gecko) Chrome/106.0.0.0 Safari/537.36\"\n",
    "    }\n",
    "    response = requests.request(\"GET\",\n",
    "                                url,\n",
    "                                proxies={\n",
    "                                    \"http\": proxy,\n",
    "                                    \"https\": proxy\n",
    "                                },\n",
    "                                timeout=timeout)\n",
    "    if response.status_code == 200:\n",
    "        return response.json().get(\"annual\").get(\"data\")\n",
    "    \n",
    "    ##returns none if request wasn't succesful\n",
    "    return"
   ]
  },
  {
   "cell_type": "code",
   "execution_count": null,
   "metadata": {},
   "outputs": [],
   "source": [
    "def get_proxies():\n",
    "    proxies = []\n",
    "    with open(\"proxies.csv\") as f:\n",
    "        reader = csv.reader(f)\n",
    "        for row in reader:\n",
    "            proxies.append(row[0])\n",
    "    return proxies\n",
    "\n",
    "##beware proxies fail sometimes..only ones i found functional for free at least\n",
    "proxies = get_proxies()\n",
    "proxies"
   ]
  },
  {
   "cell_type": "code",
   "execution_count": null,
   "metadata": {},
   "outputs": [],
   "source": [
    "from itertools import cycle\n",
    "import time\n",
    "#infinite loop around proxies\n",
    "prox_gen = cycle(proxies)"
   ]
  },
  {
   "cell_type": "code",
   "execution_count": null,
   "metadata": {},
   "outputs": [],
   "source": [
    "#store all json data retrieved from api\n",
    "all_data = []\n",
    "\n",
    "##index from which the process starts\n",
    "last_succesful_index = 0"
   ]
  },
  {
   "cell_type": "code",
   "execution_count": null,
   "metadata": {},
   "outputs": [],
   "source": [
    "## This process might TAKE A LOT on the basis of your patience and connection time...\n",
    "## well you can always find better proxy list online\n",
    "## if u find any bugs please let me know!\n",
    "\n",
    "flag = True\n",
    "for idx , row in df.iloc[last_succesful_index:].iterrows():\n",
    "    x , y = row.values\n",
    "    print(\"*\"*50 + f\"\\n ITERATION={idx+1}| Fetching data for lat={x:.2f},lon={y:.2f}\")\n",
    "    #start by using proxies one-by-one until one succeeds\n",
    "    ## we start by using proxy one\n",
    "    failures = 0\n",
    "    for proxy in prox_gen:\n",
    "        print(f\"Attempting sourcing with proxy {proxy}...\")\n",
    "        try:\n",
    "            ##send HTTP request\n",
    "            data = get_data(x , y , proxy)\n",
    "\n",
    "            ##store data\n",
    "            data.update({\"lat\":x,\"lon\":y})\n",
    "            all_data.append(data)\n",
    "            print(\"Dictionary has been updated!\")\n",
    "\n",
    "            ##break the infinite loop and continue to next (x,y)\n",
    "            break\n",
    "        except Exception as e:\n",
    "            print(colored(f\"PROXY {proxy} FAILED! Error: {e}\",\"red\"))\n",
    "            ##counting failed attempts\n",
    "            failures += 1\n",
    "            print(f\"TOTAL FAILURES={failures}!\")\n",
    "\n",
    "            ##if we tried all proxies and none succeeded break loop\n",
    "            ##and terminate\n",
    "            if failures == len(proxies):\n",
    "                flag = False\n",
    "                break\n",
    "            ##else retry with another proxy\n",
    "            else:\n",
    "                print(\"RETRYING...\")\n",
    "                continue\n",
    "\n",
    "    ##all proxies failed = terminate procedure\n",
    "    if not flag:\n",
    "        ##before terminating store the last index on which the process\n",
    "        ##was succesful to start from there\n",
    "        last_succesful_index = idx - 1\n",
    "        print(f\"Last succesful index: {last_succesful_index}\")\n",
    "        break\n",
    "    "
   ]
  }
 ],
 "metadata": {
  "language_info": {
   "name": "python"
  },
  "orig_nbformat": 4
 },
 "nbformat": 4,
 "nbformat_minor": 2
}
